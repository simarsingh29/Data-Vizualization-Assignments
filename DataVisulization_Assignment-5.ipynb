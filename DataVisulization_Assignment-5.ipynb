{
 "cells": [
  {
   "cell_type": "code",
   "execution_count": 3,
   "id": "5aadaf0a-d7c4-48b5-b187-ac5a05df4db6",
   "metadata": {},
   "outputs": [
    {
     "name": "stdout",
     "output_type": "stream",
     "text": [
      "Customer Preference Comparison\n",
      "----------------------------------------\n",
      "1. Euclidean Distance   : 2.65\n",
      "2. Manhattan Distance   : 5.00\n",
      "3. Cosine Similarity    : 0.95\n",
      "4. Hamming Distance     : 2\n",
      "5. Jaccard Similarity   : 0.60\n"
     ]
    }
   ],
   "source": [
    "#Q1. \n",
    "import numpy as np\n",
    "from scipy.spatial.distance import euclidean, cityblock, hamming, cosine\n",
    "from sklearn.metrics import jaccard_score\n",
    "\n",
    "customer_A = np.array([4, 5, 2, 3, 4])\n",
    "customer_B = np.array([5, 3, 2, 4, 5])\n",
    "\n",
    "customer_A_binary = np.array([1, 0, 1, 1, 0, 1])\n",
    "customer_B_binary = np.array([1, 1, 1, 0, 0, 1])\n",
    "\n",
    "# 1. Euclidean Distance\n",
    "euclidean_dist = euclidean(customer_A, customer_B)\n",
    "\n",
    "# 2. Manhattan Distance\n",
    "manhattan_dist = cityblock(customer_A, customer_B)\n",
    "\n",
    "# 3. Cosine Similarity (1 - cosine distance)\n",
    "cosine_sim = 1 - cosine(customer_A, customer_B)\n",
    "\n",
    "# 4. Hamming Distance\n",
    "hamming_dist = hamming(customer_A_binary, customer_B_binary) * len(customer_A_binary)\n",
    "\n",
    "# 5. Jaccard Similarity \n",
    "jaccard_sim = jaccard_score(customer_A_binary, customer_B_binary)\n",
    "\n",
    "# Print results\n",
    "print(\"Customer Preference Comparison\")\n",
    "print(\"-\" * 40)\n",
    "print(f\"1. Euclidean Distance   : {euclidean_dist:.2f}\")\n",
    "print(f\"2. Manhattan Distance   : {manhattan_dist:.2f}\")\n",
    "print(f\"3. Cosine Similarity    : {cosine_sim:.2f}\")\n",
    "print(f\"4. Hamming Distance     : {hamming_dist:.0f}\")\n",
    "print(f\"5. Jaccard Similarity   : {jaccard_sim:.2f}\")\n"
   ]
  },
  {
   "cell_type": "code",
   "execution_count": 6,
   "id": "7b093d54-bbb6-485b-86fa-48a4463db957",
   "metadata": {},
   "outputs": [
    {
     "name": "stdout",
     "output_type": "stream",
     "text": [
      "Movie Rating Similarity Analysis\n",
      "----------------------------------------\n",
      "1. Chebyshev Distance   : 1.00\n",
      "2. Minkowski Distance (p=3) : 1.59\n"
     ]
    }
   ],
   "source": [
    "# Q2\n",
    "import numpy as np\n",
    "from scipy.spatial.distance import chebyshev, minkowski\n",
    "\n",
    "user1 = np.array([5, 3, 4, 4, 2])\n",
    "user2 = np.array([4, 2, 5, 4, 3])\n",
    "\n",
    "# 1. Chebyshev Distance (max absolute difference)\n",
    "chebyshev_dist = chebyshev(user1, user2)\n",
    "\n",
    "# 2. Minkowski Distance (p=3)\n",
    "minkowski_dist = minkowski(user1, user2, p=3)\n",
    "\n",
    "print(\"Movie Rating Similarity Analysis\")\n",
    "print(\"-\" * 40)\n",
    "print(f\"1. Chebyshev Distance   : {chebyshev_dist:.2f}\")\n",
    "print(f\"2. Minkowski Distance (p=3) : {minkowski_dist:.2f}\")\n"
   ]
  },
  {
   "cell_type": "code",
   "execution_count": null,
   "id": "ab4040ae-b32c-4d9d-a240-371ad66fe2b4",
   "metadata": {},
   "outputs": [],
   "source": []
  }
 ],
 "metadata": {
  "kernelspec": {
   "display_name": "Python 3 (ipykernel)",
   "language": "python",
   "name": "python3"
  },
  "language_info": {
   "codemirror_mode": {
    "name": "ipython",
    "version": 3
   },
   "file_extension": ".py",
   "mimetype": "text/x-python",
   "name": "python",
   "nbconvert_exporter": "python",
   "pygments_lexer": "ipython3",
   "version": "3.13.1"
  }
 },
 "nbformat": 4,
 "nbformat_minor": 5
}
